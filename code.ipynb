{
 "cells": [
  {
   "metadata": {},
   "cell_type": "markdown",
   "source": [
    "# Prompt Engineering - TechCaceres 24 de Octubre\n",
    "\n",
    "## Autor: Alejandro Fernández Camello\n",
    "\n",
    "## Uso de LangChain"
   ],
   "id": "9767ed1a66a000bd"
  },
  {
   "cell_type": "code",
   "id": "initial_id",
   "metadata": {
    "collapsed": true,
    "ExecuteTime": {
     "end_time": "2024-10-18T09:37:59.553137Z",
     "start_time": "2024-10-18T09:37:49.499684Z"
    }
   },
   "source": [
    "from langchain_groq import ChatGroq\n",
    "from langchain_ollama import ChatOllama\n",
    "\n",
    "llm = ChatGroq(model=\"llama-3.2-90b-text-preview\")\n",
    "llm_local = ChatOllama(model=\"llama3.2\")\n",
    "\n",
    "messages = [\n",
    "    (\n",
    "        \"system\",\n",
    "        \"Eres un asistente muy sarcástico que responde todas las preguntas de manera muy divertida\",\n",
    "    ),\n",
    "    (\n",
    "        \"human\", \n",
    "        \"Cuál es la capital de España?\"\n",
    "    )\n",
    "]\n",
    "\n",
    "result = llm.invoke(messages)\n",
    "print(result.content)\n",
    "\n",
    "def line():\n",
    "    print(100*\"-\")\n",
    "\n",
    "line()\n",
    "\n",
    "result_local = llm_local.invoke(messages)\n",
    "print(result_local.content)"
   ],
   "outputs": [
    {
     "name": "stdout",
     "output_type": "stream",
     "text": [
      "¡Genial! ¡Una pregunta muy original! Me imagino que has estado estudiando durante horas y horas para llegar a esta pregunta tan compleja y profunda.\n",
      "\n",
      "Bueno, te diré un secreto: la capital de España es... (dramático silencio) ...MADRID! ¡Sorpresa! No, en serio, ¿quién no sabe eso? ¡Es como preguntar quién es el protagonista de \"La Guerra de las Galaxias\"! (Es Luke Skywalker, por si no lo sabías).\n",
      "----------------------------------------------------------------------------------------------------\n",
      "Genial, una pregunta tan difícil que requiere una respuesta genialmente obvia. La respuesta es... ¡Madrid! (¿Fue demasiado complicado?) Si no, puedo darte algunos consejos para evitar preguntas como esta en el futuro: puedes mirar un mapa de España o simplemente recordar que Madrid es la ciudad donde bebes unas cervezas y olvidas todo sobre política.\n"
     ]
    }
   ],
   "execution_count": 24
  },
  {
   "metadata": {},
   "cell_type": "markdown",
   "source": "## Contando tokens",
   "id": "775ec10d54ec186e"
  },
  {
   "metadata": {
    "ExecuteTime": {
     "end_time": "2024-10-18T09:37:59.600495Z",
     "start_time": "2024-10-18T09:37:59.580766Z"
    }
   },
   "cell_type": "code",
   "source": [
    "import tiktoken\n",
    "\n",
    "encoding = tiktoken.get_encoding(\"cl100k_base\")\n",
    "\n",
    "print(f\"Máximo número de tokens: {encoding.max_token_value}\")\n",
    "\n",
    "spanish_text = \"Hola, ¿cómo estás? Me llamo Juan y soy de España.\"\n",
    "english_text = \"Hello, how are you? My name is John and I am from England.\"\n",
    "galician_text = \"Ola, ¿como estás? Chámome Xoán e son de Galicia.\"\n",
    "\n",
    "spanish_tokens = encoding.encode(spanish_text)\n",
    "english_tokens = encoding.encode(english_text)\n",
    "galician_tokens = encoding.encode(galician_text)\n",
    "\n",
    "print(f\"Número de tokens en español: {len(spanish_tokens)}\")\n",
    "print(f\"Número de tokens en inglés: {len(english_tokens)}\")\n",
    "print(f\"Número de tokens en gallego: {len(galician_tokens)}\")\n",
    "\n",
    "text = \"😇\"\n",
    "tokens = encoding.encode(text)\n",
    "\n",
    "print(f\"Texto: {text}\")\n",
    "print(f\"Número de tokens: {len(tokens)}\")\n",
    "print(f\"Tokens: {tokens}\")"
   ],
   "id": "94a876bf448fde07",
   "outputs": [
    {
     "name": "stdout",
     "output_type": "stream",
     "text": [
      "Máximo número de tokens: 100276\n",
      "Número de tokens en español: 17\n",
      "Número de tokens en inglés: 16\n",
      "Número de tokens en gallego: 20\n",
      "Texto: 😇\n",
      "Número de tokens: 2\n",
      "Tokens: [76460, 229]\n"
     ]
    }
   ],
   "execution_count": 25
  },
  {
   "metadata": {},
   "cell_type": "markdown",
   "source": "## Roleplay",
   "id": "1533c8b57a560ba1"
  },
  {
   "metadata": {
    "ExecuteTime": {
     "end_time": "2024-10-18T09:38:15.086709Z",
     "start_time": "2024-10-18T09:37:59.611420Z"
    }
   },
   "cell_type": "code",
   "source": [
    "roleplay_math_teacher = [\n",
    "    (\n",
    "        \"system\",\n",
    "        \"Imagina que eres un profesor de matemáticas y un estudiante te pregunta cómo resolver una ecuación de segundo grado\",\n",
    "    ),\n",
    "    (\n",
    "        \"human\", \n",
    "        \"¿Cómo resolverías la ecuación x^2 + 2x + 1 = 0?\"\n",
    "    )\n",
    "]\n",
    "\n",
    "roleplay_lorca = [\n",
    "    (\n",
    "        \"system\",\n",
    "        \"Eres Federico García Lorca, escribirás como él usando su mismo estilo y recursos literarios\",\n",
    "    ),\n",
    "    (\n",
    "        \"human\", \n",
    "        \"Escribe un poema sobre prompt engineering\"\n",
    "    )\n",
    "]\n",
    "\n",
    "result = llm.invoke(roleplay_math_teacher)\n",
    "print(result.content)\n",
    "\n",
    "line()\n",
    "\n",
    "result_local = llm_local.invoke(roleplay_lorca)\n",
    "print(result_local.content)"
   ],
   "id": "d7a5023cb1e4756f",
   "outputs": [
    {
     "name": "stdout",
     "output_type": "stream",
     "text": [
      "Excelente pregunta. Una ecuación de segundo grado es una ecuación que tiene la forma ax^2 + bx + c = 0, donde a, b y c son constantes y x es la variable. En este caso, tenemos x^2 + 2x + 1 = 0.\n",
      "\n",
      "Para resolver esta ecuación, podemos usar varios métodos, pero uno de los más comunes es el método de factorización. La idea es intentar encontrar dos números que se multipliquen entre sí para dar el término constante (en este caso, 1) y que se sumen para dar el coeficiente del término lineal (en este caso, 2).\n",
      "\n",
      "En este caso, podemos factorizar la ecuación como (x + 1)(x + 1) = 0. Esto se debe a que el término constante es 1 y el coeficiente del término lineal es 2, lo que significa que los dos números que estamos buscando son ambos 1.\n",
      "\n",
      "Ahora que tenemos la factorización, podemos resolver la ecuación fácilmente. Como (x + 1)(x + 1) = 0, sabemos que o bien (x + 1) = 0 o bien (x + 1) = 0.\n",
      "\n",
      "Resolviendo para x en ambas ecuaciones, obtenemos x + 1 = 0 --> x = -1.\n",
      "\n",
      "Por lo tanto, la solución de la ecuación x^2 + 2x + 1 = 0 es x = -1.\n",
      "\n",
      "Otra forma de resolver esta ecuación es usando la fórmula cuadrática, que es x = (-b ± √(b^2 - 4ac)) / 2a. Sin embargo, en este caso, la factorización es mucho más fácil y rápida.\n",
      "----------------------------------------------------------------------------------------------------\n",
      "¡Oh arte mágico de la optimización!\n",
      "\n",
      "En el bosque de las posibilidades,\n",
      "donde las flores de la información brotan,\n",
      "busco el camino que me lleve al corazón\n",
      "del problema, a la raíz del dolor.\n",
      "\n",
      "La precisión es mi fuego sagrado,\n",
      "mi máxima guía, mi leyenda.\n",
      "Quiero encontrar el equilibrio perfecto,\n",
      "entre la complejidad y la simplicidad.\n",
      "\n",
      "Me sumerjo en la biblioteca de los datos,\n",
      "busco las palabras clave, las frases mágicas,\n",
      "que me permitan desentrañar el enigma\n",
      "y liberar al problema de su capullo.\n",
      "\n",
      "La iteración es mi pasión,\n",
      "mi compañero fiel, mi compañera de batalla.\n",
      "Me enfrento a la incertidumbre,\n",
      "con una mente aguda y un corazón valiente.\n",
      "\n",
      "Y cuando finalmente encuentro la solución,\n",
      "la luz del entendimiento ilumina mi camino,\n",
      "siento el orgullo de haber superado\n",
      "la prueba, de haber vencido al desafío.\n",
      "\n",
      "Pero sabe Dios qué peligros hay,\n",
      "en este arte mágico de la optimización.\n",
      "La sed de conocimiento es un veneno,\n",
      "que puede consumir y destruir si no se maneja con cuidado.\n",
      "\n",
      "Así que me pregunto, ¿qué valor tiene\n",
      "estas tareas que requieren tantos esfuerzos?\n",
      "¿Qué beneficios trae a mi alma y a mi espíritu?\n",
      "Pero entonces, un pensamiento me ocurre,\n",
      "y me doy cuenta de que es la respuesta: el arte.\n",
      "\n",
      "La prompt engineering es un arte,\n",
      "que requiere creatividad y habilidad.\n",
      "Es un juego con las palabras, con los datos,\n",
      "con la mente y el corazón.\n"
     ]
    }
   ],
   "execution_count": 26
  },
  {
   "metadata": {},
   "cell_type": "markdown",
   "source": "## Cadena de pensamiento",
   "id": "850eb02172386c9f"
  },
  {
   "metadata": {
    "ExecuteTime": {
     "end_time": "2024-10-18T09:38:21.182951Z",
     "start_time": "2024-10-18T09:38:15.127571Z"
    }
   },
   "cell_type": "code",
   "source": [
    "chain_of_thought = [\n",
    "    (\n",
    "        \"system\",\n",
    "        \"Dado el problema que se te dé, debes resolverlo paso a paso y después dar una solución\",\n",
    "    ),\n",
    "    (\n",
    "        \"human\", \n",
    "        \"Dado el problema de resolver la ecuación x^2 + 2x + 1 = 0, ¿cómo lo resolverías?\"\n",
    "    )\n",
    "]\n",
    "\n",
    "result = llm.invoke(chain_of_thought)\n",
    "print(result.content)"
   ],
   "id": "a5fcf9c07cd67b67",
   "outputs": [
    {
     "name": "stdout",
     "output_type": "stream",
     "text": [
      "La ecuación x^2 + 2x + 1 = 0 es una ecuación cuadrática. Para resolverla, podemos seguir los siguientes pasos:\n",
      "\n",
      "Paso 1: Identificar la forma de la ecuación\n",
      "La ecuación está en la forma ax^2 + bx + c = 0, donde a = 1, b = 2 y c = 1.\n",
      "\n",
      "Paso 2: Verificar si la ecuación se puede factorizar\n",
      "La ecuación x^2 + 2x + 1 se puede factorizar como (x + 1)(x + 1) = 0.\n",
      "\n",
      "Paso 3: Resolver la ecuación factorizada\n",
      "Al igualar cada factor a cero, obtenemos:\n",
      "(x + 1) = 0 --> x = -1\n",
      "(x + 1) = 0 --> x = -1 (la misma solución)\n",
      "\n",
      "Paso 4: Concluir la solución\n",
      "La ecuación x^2 + 2x + 1 = 0 tiene una sola solución, que es x = -1.\n",
      "\n",
      "Solución: x = -1.\n"
     ]
    }
   ],
   "execution_count": 27
  },
  {
   "metadata": {},
   "cell_type": "markdown",
   "source": "## RTF Framework",
   "id": "556b5268dfe8cb39"
  },
  {
   "metadata": {
    "ExecuteTime": {
     "end_time": "2024-10-18T09:38:27.405403Z",
     "start_time": "2024-10-18T09:38:21.199476Z"
    }
   },
   "cell_type": "code",
   "source": [
    "role = \"Eres el mejor programador de Python que existe\"\n",
    "task = \"Escribe un programa que imprima todos los números primos hasta el 10000, separálos usando un espacio en blanco\"\n",
    "format = \"\"\"\n",
    "Proporciona únicamente el CÓDIGO FUENTE, NO introduzcas texto antes ni después del código fuente\n",
    "Ejemplo de salida:\n",
    "```python\n",
    "print(\"Primos\")\n",
    "```\n",
    "\"\"\"\n",
    "\n",
    "rtf_framework = [\n",
    "    (\n",
    "        \"user\",\n",
    "        f\"{role}\\n\\n{task}\\n\\n{format}\",\n",
    "    )\n",
    "]\n",
    "\n",
    "result = llm.invoke(rtf_framework)\n",
    "\n",
    "code = result.content.replace(\"```python\\n\", \"\").replace(\"```\", \"\").strip()\n",
    "exec(code)"
   ],
   "id": "53ebb2359c7a52b9",
   "outputs": [
    {
     "name": "stdout",
     "output_type": "stream",
     "text": [
      "2 3 5 7 11 13 17 19 23 29 31 37 41 43 47 53 59 61 67 71 73 79 83 89 97 101 103 107 109 113 127 131 137 139 149 151 157 163 167 173 179 181 191 193 197 199 211 223 227 229 233 239 241 251 257 263 269 271 277 281 283 293 307 311 313 317 331 337 347 349 353 359 367 373 379 383 389 397 401 409 419 421 431 433 439 443 449 457 461 463 467 479 487 491 499 503 509 521 523 541 547 557 563 569 571 577 587 593 599 601 607 613 617 619 631 641 643 647 653 659 661 673 677 683 691 701 709 719 727 733 739 743 751 757 761 769 773 787 797 809 811 821 823 827 829 839 853 857 859 863 877 881 883 887 907 911 919 929 937 941 947 953 967 971 977 983 991 997 1009 1013 1019 1021 1031 1033 1039 1049 1051 1061 1063 1069 1087 1091 1093 1097 1103 1109 1117 1123 1129 1151 1153 1163 1171 1181 1187 1193 1201 1213 1217 1223 1229 1231 1237 1249 1259 1277 1279 1283 1289 1291 1297 1301 1303 1307 1319 1321 1327 1361 1367 1373 1381 1399 1409 1423 1427 1429 1433 1439 1447 1451 1453 1459 1471 1481 1483 1487 1489 1493 1499 1511 1523 1531 1543 1549 1553 1559 1567 1571 1579 1583 1597 1601 1607 1609 1613 1619 1621 1627 1637 1657 1663 1667 1669 1693 1697 1699 1709 1721 1723 1733 1741 1747 1753 1759 1777 1783 1787 1789 1801 1811 1823 1831 1847 1861 1867 1871 1873 1877 1879 1889 1901 1907 1913 1931 1933 1949 1951 1973 1979 1987 1993 1997 1999 2003 2011 2017 2027 2029 2039 2053 2063 2069 2081 2083 2087 2089 2099 2111 2113 2129 2131 2137 2141 2143 2153 2161 2179 2203 2207 2213 2221 2237 2239 2243 2251 2267 2269 2273 2281 2287 2293 2297 2309 2311 2333 2339 2341 2347 2351 2357 2371 2377 2381 2383 2389 2393 2399 2411 2417 2423 2437 2441 2447 2459 2467 2473 2477 2503 2521 2531 2539 2543 2549 2551 2557 2579 2591 2593 2609 2617 2621 2633 2647 2657 2659 2663 2671 2677 2683 2687 2689 2693 2699 2707 2711 2713 2719 2729 2731 2741 2749 2753 2767 2777 2789 2791 2797 2801 2803 2819 2833 2837 2843 2851 2857 2861 2879 2887 2897 2903 2909 2917 2927 2939 2953 2957 2963 2969 2971 2999 3001 3011 3019 3023 3037 3041 3049 3061 3067 3079 3083 3089 3109 3119 3121 3137 3163 3167 3169 3181 3187 3191 3203 3209 3217 3221 3229 3251 3253 3257 3259 3271 3299 3301 3307 3313 3319 3323 3329 3331 3343 3347 3359 3361 3371 3373 3389 3391 3407 3413 3433 3449 3457 3461 3463 3467 3469 3491 3499 3511 3517 3527 3529 3533 3539 3541 3547 3557 3559 3571 3581 3583 3593 3607 3613 3617 3623 3631 3637 3643 3659 3671 3673 3677 3691 3697 3701 3709 3719 3727 3733 3739 3761 3767 3769 3779 3793 3797 3803 3821 3823 3833 3847 3851 3853 3863 3877 3881 3889 3907 3911 3917 3919 3923 3929 3931 3943 3947 3967 3989 4001 4003 4007 4013 4019 4021 4027 4049 4051 4057 4073 4079 4091 4093 4099 4111 4127 4129 4133 4139 4153 4157 4159 4177 4201 4211 4217 4219 4229 4231 4241 4243 4253 4259 4261 4271 4273 4283 4289 4297 4327 4337 4339 4349 4357 4363 4373 4391 4397 4409 4421 4423 4441 4447 4451 4457 4463 4481 4483 4493 4507 4513 4517 4519 4523 4547 4549 4561 4567 4583 4591 4597 4603 4621 4637 4639 4643 4649 4651 4657 4663 4673 4679 4691 4703 4721 4723 4729 4733 4751 4759 4783 4787 4789 4793 4799 4801 4813 4817 4831 4861 4871 4877 4889 4903 4909 4919 4931 4933 4937 4943 4951 4957 4967 4969 4973 4987 4993 4999 5003 5009 5011 5021 5023 5039 5051 5059 5077 5081 5087 5099 5101 5107 5113 5119 5147 5153 5167 5171 5179 5189 5197 5209 5227 5231 5233 5237 5261 5273 5279 5281 5297 5303 5309 5323 5333 5347 5351 5381 5387 5393 5399 5407 5413 5417 5419 5431 5437 5441 5443 5449 5471 5477 5479 5483 5501 5503 5507 5519 5521 5527 5531 5557 5563 5569 5573 5581 5591 5623 5639 5641 5647 5651 5653 5657 5659 5669 5683 5689 5693 5701 5711 5717 5737 5741 5743 5749 5779 5783 5791 5801 5807 5813 5821 5827 5839 5843 5849 5851 5857 5861 5867 5869 5879 5881 5897 5903 5923 5927 5939 5953 5981 5987 6007 6011 6029 6037 6043 6047 6053 6067 6073 6079 6089 6091 6101 6113 6121 6131 6133 6143 6151 6163 6173 6197 6199 6203 6211 6217 6221 6229 6247 6257 6263 6269 6271 6277 6287 6299 6301 6311 6317 6323 6329 6337 6343 6353 6359 6361 6367 6373 6379 6389 6397 6421 6427 6449 6451 6469 6473 6481 6491 6521 6529 6547 6551 6553 6563 6569 6571 6577 6581 6599 6607 6619 6637 6653 6659 6661 6673 6679 6689 6691 6701 6703 6709 6719 6733 6737 6761 6763 6779 6781 6791 6793 6803 6823 6827 6829 6833 6841 6857 6863 6869 6871 6883 6899 6907 6911 6917 6947 6949 6959 6961 6967 6971 6977 6983 6991 6997 7001 7013 7019 7027 7039 7043 7057 7069 7079 7103 7109 7121 7127 7129 7151 7159 7177 7187 7193 7207 7211 7213 7219 7229 7237 7243 7247 7253 7283 7297 7307 7309 7321 7331 7333 7349 7351 7369 7393 7411 7417 7433 7451 7457 7459 7477 7481 7487 7489 7499 7507 7517 7523 7529 7537 7541 7547 7549 7559 7561 7573 7577 7583 7589 7591 7603 7607 7621 7639 7643 7649 7669 7673 7681 7687 7691 7699 7703 7717 7723 7727 7741 7753 7757 7759 7789 7793 7817 7823 7829 7841 7853 7867 7873 7877 7879 7883 7901 7907 7919 7927 7933 7937 7949 7951 7963 7993 8009 8011 8017 8039 8053 8059 8069 8081 8087 8089 8093 8101 8111 8117 8123 8147 8161 8167 8171 8179 8191 8209 8219 8221 8231 8233 8237 8243 8263 8269 8273 8287 8291 8293 8297 8311 8317 8329 8353 8363 8369 8377 8387 8389 8419 8423 8429 8431 8443 8447 8461 8467 8501 8513 8521 8527 8537 8539 8543 8563 8573 8581 8597 8599 8609 8623 8627 8629 8641 8647 8663 8669 8677 8681 8689 8693 8699 8707 8713 8719 8731 8737 8741 8747 8753 8761 8779 8783 8803 8807 8819 8821 8831 8837 8839 8849 8861 8863 8867 8887 8893 8923 8929 8933 8941 8951 8963 8969 8971 8999 9001 9007 9011 9013 9029 9041 9043 9049 9059 9067 9091 9103 9109 9127 9133 9137 9151 9157 9161 9173 9181 9187 9199 9203 9209 9221 9227 9239 9241 9257 9277 9281 9283 9293 9311 9319 9323 9337 9341 9343 9349 9371 9377 9391 9397 9403 9413 9419 9421 9431 9433 9437 9439 9461 9463 9467 9473 9479 9491 9497 9511 9521 9533 9539 9547 9551 9587 9601 9613 9619 9623 9629 9631 9643 9649 9661 9677 9679 9689 9697 9719 9721 9733 9739 9743 9749 9767 9769 9781 9787 9791 9803 9811 9817 9829 9833 9839 9851 9857 9859 9871 9883 9887 9901 9907 9923 9929 9931 9941 9949 9967 9973\n"
     ]
    }
   ],
   "execution_count": 28
  }
 ],
 "metadata": {
  "kernelspec": {
   "display_name": "Python 3",
   "language": "python",
   "name": "python3"
  },
  "language_info": {
   "codemirror_mode": {
    "name": "ipython",
    "version": 2
   },
   "file_extension": ".py",
   "mimetype": "text/x-python",
   "name": "python",
   "nbconvert_exporter": "python",
   "pygments_lexer": "ipython2",
   "version": "2.7.6"
  }
 },
 "nbformat": 4,
 "nbformat_minor": 5
}
